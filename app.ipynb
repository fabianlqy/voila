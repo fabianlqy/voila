{
 "cells": [
  {
   "cell_type": "markdown",
   "id": "c485e723",
   "metadata": {},
   "source": [
    "## Portfolio Dashboard with Interactive Chart ##"
   ]
  },
  {
   "cell_type": "code",
   "execution_count": 1,
   "id": "5a259574",
   "metadata": {},
   "outputs": [],
   "source": [
    "#Create dashboard table using https://pythonforundergradengineers.com/deploy-jupyter-notebook-voila-heroku.html"
   ]
  },
  {
   "cell_type": "code",
   "execution_count": 2,
   "id": "61fdf2d0",
   "metadata": {},
   "outputs": [],
   "source": [
    "from yahoo_fin import stock_info as si"
   ]
  },
  {
   "cell_type": "code",
   "execution_count": 3,
   "id": "052791e4",
   "metadata": {},
   "outputs": [],
   "source": [
    "import pandas as pd"
   ]
  },
  {
   "cell_type": "code",
   "execution_count": 4,
   "id": "ad75aeb8",
   "metadata": {},
   "outputs": [],
   "source": [
    "df1 = pd.read_csv(r'C:\\Users\\qlim5\\Desktop\\TEST.csv') #import initial csv file"
   ]
  },
  {
   "cell_type": "code",
   "execution_count": 5,
   "id": "b4e40287",
   "metadata": {},
   "outputs": [],
   "source": [
    "ticker_list = list(df1['Ticker']) "
   ]
  },
  {
   "cell_type": "code",
   "execution_count": 6,
   "id": "91fa42f3",
   "metadata": {},
   "outputs": [],
   "source": [
    "px_last = {x:si.get_live_price(x) for x in ticker_list} #this returns a dictionary key = ticker, price = last price"
   ]
  },
  {
   "cell_type": "code",
   "execution_count": 7,
   "id": "8de3358f",
   "metadata": {},
   "outputs": [],
   "source": [
    "df2 = pd.DataFrame(px_last.items(),columns=['Ticker','Last Price'])"
   ]
  },
  {
   "cell_type": "code",
   "execution_count": 8,
   "id": "080c1fd2",
   "metadata": {},
   "outputs": [],
   "source": [
    "final_table = pd.merge(df1,df2,on='Ticker') #merge initial table with last price"
   ]
  },
  {
   "cell_type": "code",
   "execution_count": 9,
   "id": "460af77d",
   "metadata": {},
   "outputs": [],
   "source": [
    "final_table['% Chg'] = ((final_table['Last Price'] / final_table['Entry Price'])-1)*100"
   ]
  },
  {
   "cell_type": "code",
   "execution_count": 10,
   "id": "23b9a1fb",
   "metadata": {},
   "outputs": [],
   "source": [
    "final_table['P/L (LCL)'] = (final_table['Last Price'] - final_table['Entry Price']) * final_table['Quantity']"
   ]
  },
  {
   "cell_type": "code",
   "execution_count": 11,
   "id": "33c33886",
   "metadata": {},
   "outputs": [
    {
     "data": {
      "text/html": [
       "<div>\n",
       "<style scoped>\n",
       "    .dataframe tbody tr th:only-of-type {\n",
       "        vertical-align: middle;\n",
       "    }\n",
       "\n",
       "    .dataframe tbody tr th {\n",
       "        vertical-align: top;\n",
       "    }\n",
       "\n",
       "    .dataframe thead th {\n",
       "        text-align: right;\n",
       "    }\n",
       "</style>\n",
       "<table border=\"1\" class=\"dataframe\">\n",
       "  <thead>\n",
       "    <tr style=\"text-align: right;\">\n",
       "      <th></th>\n",
       "      <th>Ticker</th>\n",
       "      <th>Name</th>\n",
       "      <th>Quantity</th>\n",
       "      <th>Entry Price</th>\n",
       "      <th>Last Price</th>\n",
       "      <th>% Chg</th>\n",
       "      <th>P/L (LCL)</th>\n",
       "    </tr>\n",
       "  </thead>\n",
       "  <tbody>\n",
       "    <tr>\n",
       "      <th>0</th>\n",
       "      <td>S58.SI</td>\n",
       "      <td>SATS Ltd.</td>\n",
       "      <td>1000</td>\n",
       "      <td>4.80</td>\n",
       "      <td>3.92</td>\n",
       "      <td>-18.33</td>\n",
       "      <td>-880.00</td>\n",
       "    </tr>\n",
       "    <tr>\n",
       "      <th>1</th>\n",
       "      <td>HMN.SI</td>\n",
       "      <td>Ascott REIT</td>\n",
       "      <td>3500</td>\n",
       "      <td>1.32</td>\n",
       "      <td>0.98</td>\n",
       "      <td>-26.14</td>\n",
       "      <td>-1207.50</td>\n",
       "    </tr>\n",
       "    <tr>\n",
       "      <th>2</th>\n",
       "      <td>C38U.SI</td>\n",
       "      <td>CapitaLand Integrated Trust</td>\n",
       "      <td>1000</td>\n",
       "      <td>2.12</td>\n",
       "      <td>2.06</td>\n",
       "      <td>-2.83</td>\n",
       "      <td>-60.00</td>\n",
       "    </tr>\n",
       "    <tr>\n",
       "      <th>3</th>\n",
       "      <td>TCU.SI</td>\n",
       "      <td>Credit Bureau Asia</td>\n",
       "      <td>1000</td>\n",
       "      <td>0.93</td>\n",
       "      <td>1.23</td>\n",
       "      <td>32.26</td>\n",
       "      <td>300.00</td>\n",
       "    </tr>\n",
       "    <tr>\n",
       "      <th>4</th>\n",
       "      <td>A17U.SI</td>\n",
       "      <td>Ascendas REIT</td>\n",
       "      <td>1200</td>\n",
       "      <td>2.90</td>\n",
       "      <td>2.96</td>\n",
       "      <td>2.07</td>\n",
       "      <td>72.00</td>\n",
       "    </tr>\n",
       "    <tr>\n",
       "      <th>5</th>\n",
       "      <td>CJLU.SI</td>\n",
       "      <td>Netlink Trust</td>\n",
       "      <td>3200</td>\n",
       "      <td>0.95</td>\n",
       "      <td>1.01</td>\n",
       "      <td>6.32</td>\n",
       "      <td>192.00</td>\n",
       "    </tr>\n",
       "    <tr>\n",
       "      <th>6</th>\n",
       "      <td>9988.HK</td>\n",
       "      <td>Alibaba Group</td>\n",
       "      <td>100</td>\n",
       "      <td>222.80</td>\n",
       "      <td>119.40</td>\n",
       "      <td>-46.41</td>\n",
       "      <td>-10340.00</td>\n",
       "    </tr>\n",
       "    <tr>\n",
       "      <th>7</th>\n",
       "      <td>TSLA</td>\n",
       "      <td>Tesla</td>\n",
       "      <td>5</td>\n",
       "      <td>621.28</td>\n",
       "      <td>1014.97</td>\n",
       "      <td>63.37</td>\n",
       "      <td>1968.45</td>\n",
       "    </tr>\n",
       "  </tbody>\n",
       "</table>\n",
       "</div>"
      ],
      "text/plain": [
       "    Ticker                         Name  Quantity  Entry Price  Last Price  \\\n",
       "0   S58.SI                    SATS Ltd.      1000         4.80        3.92   \n",
       "1   HMN.SI                  Ascott REIT      3500         1.32        0.98   \n",
       "2  C38U.SI  CapitaLand Integrated Trust      1000         2.12        2.06   \n",
       "3   TCU.SI           Credit Bureau Asia      1000         0.93        1.23   \n",
       "4  A17U.SI                Ascendas REIT      1200         2.90        2.96   \n",
       "5  CJLU.SI                Netlink Trust      3200         0.95        1.01   \n",
       "6  9988.HK                Alibaba Group       100       222.80      119.40   \n",
       "7     TSLA                        Tesla         5       621.28     1014.97   \n",
       "\n",
       "   % Chg  P/L (LCL)  \n",
       "0 -18.33    -880.00  \n",
       "1 -26.14   -1207.50  \n",
       "2  -2.83     -60.00  \n",
       "3  32.26     300.00  \n",
       "4   2.07      72.00  \n",
       "5   6.32     192.00  \n",
       "6 -46.41  -10340.00  \n",
       "7  63.37    1968.45  "
      ]
     },
     "execution_count": 11,
     "metadata": {},
     "output_type": "execute_result"
    }
   ],
   "source": [
    "final_table.round(decimals=2)"
   ]
  },
  {
   "cell_type": "code",
   "execution_count": null,
   "id": "a4c69da6",
   "metadata": {},
   "outputs": [],
   "source": []
  },
  {
   "cell_type": "code",
   "execution_count": 12,
   "id": "0aa44d20",
   "metadata": {},
   "outputs": [],
   "source": [
    "#Creating multiple dataframes based on stock ticker"
   ]
  },
  {
   "cell_type": "code",
   "execution_count": 13,
   "id": "ac301812",
   "metadata": {
    "tags": [
     "hide_input"
    ]
   },
   "outputs": [],
   "source": [
    "import yfinance as yf\n",
    "import ipywidgets as widgets\n",
    "from IPython.display import display, clear_output\n",
    "from bokeh.io import curdoc,output_notebook,show\n",
    "from bokeh.plotting import figure\n",
    "from bokeh.models import Select, ColumnDataSource, HoverTool\n",
    "from bokeh.layouts import column, row\n",
    "from bokeh.application import Application\n",
    "from bokeh.application.handlers import FunctionHandler"
   ]
  },
  {
   "cell_type": "markdown",
   "id": "11b5dbf6",
   "metadata": {},
   "source": [
    "### Enter Stock Ticker ###"
   ]
  },
  {
   "cell_type": "code",
   "execution_count": 14,
   "id": "7d694f81",
   "metadata": {},
   "outputs": [
    {
     "data": {
      "application/vnd.jupyter.widget-view+json": {
       "model_id": "803b51cd5bdf4e8983de572ce8bfbcd9",
       "version_major": 2,
       "version_minor": 0
      },
      "text/plain": [
       "Text(value='', description='Stock ticker: ')"
      ]
     },
     "metadata": {},
     "output_type": "display_data"
    },
    {
     "data": {
      "application/vnd.jupyter.widget-view+json": {
       "model_id": "a0448b0fc9cc4250913cd6bf69d84fde",
       "version_major": 2,
       "version_minor": 0
      },
      "text/plain": [
       "Output()"
      ]
     },
     "metadata": {},
     "output_type": "display_data"
    }
   ],
   "source": [
    "text = widgets.Text(description='Stock ticker: ')\n",
    "display(text)\n",
    "output = widgets.Output()\n",
    "display(output)\n",
    "\n",
    "def callback(X):\n",
    "    with output:\n",
    "        clear_output()\n",
    "        d1 = yf.download(text.value,period='1Y')\n",
    "\n",
    "        source = ColumnDataSource(d1)\n",
    "        plot = figure(x_axis_type='datetime',title='Stock Price',tools='pan,box_zoom,xwheel_zoom,ywheel_zoom',active_scroll='xwheel_zoom')\n",
    "        plot.line(x='Date',y='Close',source=source)\n",
    "        output_notebook()\n",
    "        show(plot)\n",
    "    \n",
    "text.on_submit(callback)"
   ]
  },
  {
   "cell_type": "code",
   "execution_count": 15,
   "id": "d5625305",
   "metadata": {},
   "outputs": [],
   "source": [
    "#http://localhost:8866/"
   ]
  },
  {
   "cell_type": "code",
   "execution_count": 16,
   "id": "b223d4f9",
   "metadata": {},
   "outputs": [],
   "source": [
    "#https://pythonforundergradengineers.com/deploy-jupyter-notebook-voila-heroku.html"
   ]
  },
  {
   "cell_type": "code",
   "execution_count": 17,
   "id": "6db8e228",
   "metadata": {},
   "outputs": [],
   "source": [
    "#https://devcenter.heroku.com/articles/heroku-cli"
   ]
  },
  {
   "cell_type": "code",
   "execution_count": 19,
   "id": "9a93d842",
   "metadata": {},
   "outputs": [],
   "source": [
    "#mkdir voila\n",
    "#cd voila\n",
    "#git init\n",
    "#git remote add origin https://github.com/fabianlqy/voila.git\n",
    "#git pull origin master"
   ]
  },
  {
   "cell_type": "code",
   "execution_count": null,
   "id": "1cb10dd6",
   "metadata": {},
   "outputs": [],
   "source": []
  }
 ],
 "metadata": {
  "hide_input": false,
  "kernelspec": {
   "display_name": "Python 3",
   "language": "python",
   "name": "python3"
  },
  "language_info": {
   "codemirror_mode": {
    "name": "ipython",
    "version": 3
   },
   "file_extension": ".py",
   "mimetype": "text/x-python",
   "name": "python",
   "nbconvert_exporter": "python",
   "pygments_lexer": "ipython3",
   "version": "3.8.8"
  }
 },
 "nbformat": 4,
 "nbformat_minor": 5
}
